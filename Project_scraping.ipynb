{
 "cells": [
  {
   "cell_type": "code",
   "execution_count": null,
   "id": "44bf1ef4",
   "metadata": {},
   "outputs": [],
   "source": [
    "import pandas as pd\n",
    "import numpy as np\n",
    "from bs4 import BeautifulSoup\n",
    "from selenium import webdriver\n",
    "import re\n",
    "from selenium.webdriver.common.action_chains import ActionChains\n",
    "from selenium.webdriver.common.keys import Keys\n",
    "import time"
   ]
  },
  {
   "cell_type": "code",
   "execution_count": null,
   "id": "b9af2318",
   "metadata": {},
   "outputs": [],
   "source": [
    "driver = webdriver.Chrome()"
   ]
  },
  {
   "cell_type": "code",
   "execution_count": null,
   "id": "890d6e95",
   "metadata": {},
   "outputs": [],
   "source": [
    "##### 한국 조선일보(보수)\n",
    "kor_conservative_list = []\n",
    "for j in range(1, 4):\n",
    "    url = \"https://www.chosun.com/nsearch/?query=%EC%98%A4%EC%97%BC%EC%88%98&page=\" + str(j) + \"&siteid=&sort=1&date_period=direct&date_start=20230820&date_end=20230927&writer=&field=&emd_word=&expt_word=&opt_chk=false&app_check=0&website=www,chosun&category=\"\n",
    "    driver.get(url)\n",
    "    time.sleep(1)\n",
    "    html = driver.page_source\n",
    "    soup = BeautifulSoup(html, \"html.parser\")\n",
    "    for i in range(1, 11):\n",
    "        driver.find_elements(\"css selector\", \"#main > div.search-feed > div:nth-child(\"+str(i)+\") > div > div.story-card.story-card--art-left.\\|.flex.flex--wrap.box--hidden-md.box--hidden-lg > div.story-card-right.\\|.grid__col--sm-9.grid__col--md-9.grid__col--lg-9.box--pad-left-xs > div.story-card__headline-container.\\|.box--margin-bottom-xs > div > a > span\")[0].click()\n",
    "        time.sleep(1)\n",
    "        ActionChains(driver).send_keys(Keys.END).perform()\n",
    "        time.sleep(0.5)\n",
    "        html = driver.page_source\n",
    "        soup = BeautifulSoup(html, \"html.parser\")\n",
    "        if len(soup.select(\"section.article-body\")[0].text) == 0:\n",
    "            continue\n",
    "        else:\n",
    "            kor_conservative_list.append(soup.select(\"section.article-body\")[0].text)\n",
    "        driver.back()\n",
    "        time.sleep(1)"
   ]
  },
  {
   "cell_type": "code",
   "execution_count": null,
   "id": "bc239cef",
   "metadata": {},
   "outputs": [],
   "source": [
    "#####한국 프레시안(진보)\n",
    "kor_progressive_list = []\n",
    "for j in range(1, 4):\n",
    "    url = \"https://www.pressian.com/pages/search?sort=1&search=%EC%98%A4%EC%97%BC%EC%88%98&startdate=2023%EB%85%84%2008%EC%9B%94%2020%EC%9D%BC&enddate=2023%EB%85%84%2009%EC%9B%94%2027%EC%9D%BC&page=\" + str(j)\n",
    "    driver.get(url)\n",
    "    time.sleep(1)\n",
    "    html = driver.page_source\n",
    "    soup = BeautifulSoup(html, \"html.parser\")\n",
    "    for i in range(10):\n",
    "        driver.find_elements(\"css selector\", \"div.box\")[i].click()\n",
    "        time.sleep(1)\n",
    "        ActionChains(driver).send_keys(Keys.END).perform()\n",
    "        time.sleep(1)\n",
    "        html = driver.page_source\n",
    "        soup = BeautifulSoup(html, \"html.parser\")\n",
    "        for x in range(len(soup.select(\"div.article_body > p\"))):\n",
    "            kor_progressive_list.append(soup.select(\"div.article_body > p\")[x].text)\n",
    "        driver.back()\n",
    "        time.sleep(1)"
   ]
  },
  {
   "cell_type": "code",
   "execution_count": null,
   "id": "ed8e0049",
   "metadata": {},
   "outputs": [],
   "source": [
    "##### 일본 후쿠이(진보)\n",
    "jp_conservative_list = []\n",
    "driver.get(\"https://www.fukuishimbun.co.jp/search?fulltext=%E6%B1%9A%E6%9F%93%E6%B0%B4\")\n",
    "time.sleep(1)\n",
    "html = driver.page_source\n",
    "soup = BeautifulSoup(html, \"html.parser\")\n",
    "for i in range(10):\n",
    "    driver.find_elements(\"css selector\", \"div.article.clearfix > div.title\")[i].click()\n",
    "    time.sleep(1)\n",
    "    ActionChains(driver).send_keys(Keys.END).perform()\n",
    "    time.sleep(0.5)\n",
    "    html = driver.page_source\n",
    "    soup = BeautifulSoup(html, \"html.parser\")\n",
    "    for x in range(len(soup.select(\"div.article-body > p\"))):\n",
    "        jp_conservative_list.append(soup.select(\"div.article-body > p\")[x].text)\n",
    "    time.sleep(3)\n",
    "    driver.back()\n",
    "    time.sleep(1)\n",
    "                   \n",
    "for j in range(2,4):\n",
    "    driver.get(\"https://www.fukuishimbun.co.jp/search?page=\" + str(j) +\"&fulltext=%E6%B1%9A%E6%9F%93%E6%B0%B4\")\n",
    "    time.sleep(1)\n",
    "    html = driver.page_source\n",
    "    soup = BeautifulSoup(html, \"html.parser\")\n",
    "    for x in range(10):\n",
    "        driver.find_elements(\"css selector\", \"div.article.clearfix > div.title\")[x].click()\n",
    "        time.sleep(1)\n",
    "        ActionChains(driver).send_keys(Keys.END).perform()\n",
    "        time.sleep(0.5)\n",
    "        html = driver.page_source\n",
    "        soup = BeautifulSoup(html, \"html.parser\")\n",
    "        for x in range(len(soup.select(\"div.article-body > p\"))):\n",
    "            jp_conservative_list.append(soup.select(\"div.article-body > p\")[x].text)\n",
    "        time.sleep(3)\n",
    "        driver.back()\n",
    "        time.sleep(1)"
   ]
  },
  {
   "cell_type": "code",
   "execution_count": null,
   "id": "4fd1fac8",
   "metadata": {},
   "outputs": [],
   "source": [
    "##### 일본 아사히(보수)\n",
    "jp_progressive_list = []\n",
    "for j in range(0,41,20):\n",
    "    url = \"https://sitesearch.asahi.com/sitesearch/?Keywords=%E6%B1%9A%E6%9F%93%E6%B0%B4&Searchsubmit2=%E6%A4%9C%E7%B4%A2&Searchsubmit=%E6%A4%9C%E7%B4%A2&iref=pc_ss_date_btn1&sort=2&start=\" + str(j)\n",
    "    driver.get(url)\n",
    "    time.sleep(1)\n",
    "    html = driver.page_source\n",
    "    soup = BeautifulSoup(html, \"html.parser\")\n",
    "    for i in range(1, 11):\n",
    "        driver.find_elements(\"css selector\", \"#SiteSearchResult > li:nth-child(\"+str(i)+\") > a > span.SearchResult_Headline > em > span\")[0].click()\n",
    "        time.sleep(1)\n",
    "        ActionChains(driver).send_keys(Keys.END).perform()\n",
    "        time.sleep(0.5)\n",
    "        html = driver.page_source\n",
    "        soup = BeautifulSoup(html, \"html.parser\")\n",
    "        for x in range(len(soup.select(\"div.nfyQp > p\"))):\n",
    "            jp_progressive_list.append(soup.select(\"div.nfyQp > p\")[x].text)\n",
    "            \n",
    "        time.sleep(3)\n",
    "        driver.back()\n",
    "        time.sleep(1)"
   ]
  },
  {
   "cell_type": "code",
   "execution_count": null,
   "id": "5cb033f0",
   "metadata": {},
   "outputs": [],
   "source": [
    "##### 중국 펑황왕신문(보수) - 검색어 (日本放射性水)\n",
    "cn_progressive_list = []\n",
    "driver.get(\"https://so.ifeng.com/?q=%E6%97%A5%E6%9C%AC%E6%94%BE%E5%B0%84%E6%80%A7%E6%B0%B4&c=1\")\n",
    "time.sleep(1)\n",
    "driver.find_elements(\"css selector\", \"#root > div:nth-child(2) > div.index_content_rsXeq > div.index_tabBox_CwoGu > div > span:nth-child(2) > font > font\")[0].click()\n",
    "time.sleep(0.5)\n",
    "ActionChains(driver).send_keys(Keys.END).perform()\n",
    "html = driver.page_source\n",
    "soup = BeautifulSoup(html, \"html.parser\")\n",
    "for i in range(30):\n",
    "    driver.find_elements(\"css selector\", \"li.news-stream-newsStream-news-item-has-image.clearfix.news_item\")[i].click()\n",
    "    html = driver.page_source\n",
    "    soup = BeautifulSoup(html, \"html.parser\")\n",
    "    try:\n",
    "        driver.find_elements(\"css selector\", \"span.index_unfoldlcon_6tl7k\")[i].click()\n",
    "        ActionChains(driver).send_keys(Keys.END).perform()\n",
    "    except:\n",
    "        ActionChains(driver).send_keys(Keys.END).perform()\n",
    "    time.sleep(0.5)\n",
    "    for y in range(len(soup.select(\"div.index_detailBox_Jdkod > div > div > p\"))):\n",
    "        cn_progressive_list.append(soup.select(\"div.index_detailBox_Jdkod > div > div > p\")[y].text)\n",
    "    time.sleep(3)"
   ]
  },
  {
   "cell_type": "code",
   "execution_count": null,
   "id": "00ac0fa4",
   "metadata": {},
   "outputs": [],
   "source": [
    "##### 러시아 Izvestiya(보수) - 검색어 (радиоактивная вода(방사능물))\n",
    "rs_progressive_list = []\n",
    "for j in range(3):\n",
    "    driver.get(\"https://iz.ru/search?type=0&prd=0&from=\" + str(j*10) +\"&text=%D1%80%D0%B0%D0%B4%D0%B8%D0%BE%D0%B0%D0%BA%D1%82%D0%B8%D0%B2%D0%BD%D0%B0%D1%8F%20%D0%B2%D0%BE%D0%B4%D0%B0&date_from=2023-08-20&date_to=2023-09-27&sort=0\")\n",
    "    time.sleep(1)\n",
    "    html = driver.page_source\n",
    "    soup = BeautifulSoup(html, \"html.parser\")\n",
    "    for i in range(3,13):\n",
    "        driver.find_elements(\"css selector\", \"#block-purple-content > div:nth-child(\" + str(i) + \") > div.view-search__title > a > font > font\")[0].click()\n",
    "        time.sleep(1)\n",
    "        ActionChains(driver).send_keys(Keys.SPACE).perform()\n",
    "        time.sleep(1)\n",
    "        html = driver.page_source\n",
    "        soup = BeautifulSoup(html, \"html.parser\")\n",
    "        for x in range(len(soup.select(\"div.text-article > article > div.text-article__inside > div > div > p\"))):\n",
    "            rs_progressive_list.append(soup.select(\"div.text-article > article > div.text-article__inside > div > div > p\")[x].text)\n",
    "        time.sleep(3)\n",
    "        driver.back()\n",
    "        time.sleep(1)"
   ]
  },
  {
   "cell_type": "code",
   "execution_count": null,
   "id": "f3c81e5a",
   "metadata": {},
   "outputs": [],
   "source": [
    "with open(\"Kor_conservative_list\", \"w\", encoding = \"UTF-8\") as f:\n",
    "    for name in kor_conservative_list:\n",
    "        f.write(name+\",\")"
   ]
  },
  {
   "cell_type": "code",
   "execution_count": null,
   "id": "b7f46f9c",
   "metadata": {},
   "outputs": [],
   "source": [
    "f = open(\"Kor_conservative_list.txt\", \"r\", encoding = \"UTF-8\")\n",
    "kcs_data = f.read().split()\n",
    "f.close()"
   ]
  },
  {
   "cell_type": "code",
   "execution_count": null,
   "id": "a0f0074a",
   "metadata": {},
   "outputs": [],
   "source": [
    "with open(\"Kor_progressive_list\", \"w\", encoding = \"UTF-8\") as f:\n",
    "    for name in kor_progressive_list:\n",
    "        f.write(name+\",\")"
   ]
  },
  {
   "cell_type": "code",
   "execution_count": null,
   "id": "f6eade30",
   "metadata": {},
   "outputs": [],
   "source": [
    "f = open(\"Kor_progressive_list.txt\", \"r\", encoding = \"UTF-8\")\n",
    "kpr_data = f.read().split()\n",
    "f.close()"
   ]
  },
  {
   "cell_type": "code",
   "execution_count": null,
   "id": "5d8de13c",
   "metadata": {},
   "outputs": [],
   "source": [
    "with open(\"jp_conservative_list\", \"w\", encoding = \"UTF-8\") as f:\n",
    "    for name in jp_conservative_list:\n",
    "        f.write(name+\",\")"
   ]
  },
  {
   "cell_type": "code",
   "execution_count": null,
   "id": "e7444dde",
   "metadata": {},
   "outputs": [],
   "source": [
    "f = open(\"jp_conservative_list.txt\", \"r\", encoding = \"UTF-8\")\n",
    "jpcs_data = f.read().split()\n",
    "f.close()"
   ]
  },
  {
   "cell_type": "code",
   "execution_count": null,
   "id": "36eabb50",
   "metadata": {},
   "outputs": [],
   "source": [
    "with open(\"jp_progressive_list\", \"w\", encoding = \"UTF-8\") as f:\n",
    "    for name in jp_progressive_list:\n",
    "        f.write(name+\",\")"
   ]
  },
  {
   "cell_type": "code",
   "execution_count": null,
   "id": "b0c8740d",
   "metadata": {},
   "outputs": [],
   "source": [
    "f = open(\"jp_progressive_list.txt\", \"r\", encoding = \"UTF-8\")\n",
    "jppr_data = f.read().split()\n",
    "f.close()"
   ]
  },
  {
   "cell_type": "code",
   "execution_count": null,
   "id": "c911d242",
   "metadata": {},
   "outputs": [],
   "source": [
    "with open(\"cn_progressive_list\", \"w\", encoding = \"UTF-8\") as f:\n",
    "    for name in cn_progressive_list:\n",
    "        f.write(name+\",\")"
   ]
  },
  {
   "cell_type": "code",
   "execution_count": null,
   "id": "d2e4a439",
   "metadata": {},
   "outputs": [],
   "source": [
    "f = open(\"cn_progressive_list.txt\", \"r\", encoding = \"UTF-8\")\n",
    "cn_data = f.read().split()\n",
    "f.close()"
   ]
  },
  {
   "cell_type": "code",
   "execution_count": null,
   "id": "cb93c667",
   "metadata": {},
   "outputs": [],
   "source": [
    "with open(\"rs_progressive_list_1\", \"w\", encoding = \"UTF-8\") as f:\n",
    "    for name in rs_progressive_list:\n",
    "        f.write(name+\",\")"
   ]
  },
  {
   "cell_type": "code",
   "execution_count": null,
   "id": "e83c9b45",
   "metadata": {},
   "outputs": [],
   "source": [
    "f = open(\"rs_progressive_list_1.txt\", \"r\", encoding = \"UTF-8\")\n",
    "rs_data = f.read().split()\n",
    "f.close()"
   ]
  }
 ],
 "metadata": {
  "kernelspec": {
   "display_name": "Python 3 (ipykernel)",
   "language": "python",
   "name": "python3"
  },
  "language_info": {
   "codemirror_mode": {
    "name": "ipython",
    "version": 3
   },
   "file_extension": ".py",
   "mimetype": "text/x-python",
   "name": "python",
   "nbconvert_exporter": "python",
   "pygments_lexer": "ipython3",
   "version": "3.11.4"
  }
 },
 "nbformat": 4,
 "nbformat_minor": 5
}
